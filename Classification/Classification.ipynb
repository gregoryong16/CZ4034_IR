{
 "cells": [
  {
   "cell_type": "code",
   "execution_count": 1,
   "id": "d631edc7",
   "metadata": {},
   "outputs": [],
   "source": [
    "import pandas as pd\n",
    "import numpy as np"
   ]
  },
  {
   "cell_type": "code",
   "execution_count": 2,
   "id": "92e52d74",
   "metadata": {},
   "outputs": [
    {
     "data": {
      "text/html": [
       "<div>\n",
       "<style scoped>\n",
       "    .dataframe tbody tr th:only-of-type {\n",
       "        vertical-align: middle;\n",
       "    }\n",
       "\n",
       "    .dataframe tbody tr th {\n",
       "        vertical-align: top;\n",
       "    }\n",
       "\n",
       "    .dataframe thead th {\n",
       "        text-align: right;\n",
       "    }\n",
       "</style>\n",
       "<table border=\"1\" class=\"dataframe\">\n",
       "  <thead>\n",
       "    <tr style=\"text-align: right;\">\n",
       "      <th></th>\n",
       "      <th>shopid</th>\n",
       "      <th>itemid</th>\n",
       "      <th>ctime</th>\n",
       "      <th>author_username</th>\n",
       "      <th>comment</th>\n",
       "      <th>rating_star</th>\n",
       "      <th>template_tags</th>\n",
       "    </tr>\n",
       "  </thead>\n",
       "  <tbody>\n",
       "    <tr>\n",
       "      <th>0</th>\n",
       "      <td>223946658</td>\n",
       "      <td>11315955990</td>\n",
       "      <td>1670429351</td>\n",
       "      <td>s*****h</td>\n",
       "      <td>Performance:good\\nBest Feature(s):yet to try\\n...</td>\n",
       "      <td>5</td>\n",
       "      <td>['Performance', 'Best Feature(s)', 'Value For ...</td>\n",
       "    </tr>\n",
       "    <tr>\n",
       "      <th>1</th>\n",
       "      <td>223946658</td>\n",
       "      <td>11315955990</td>\n",
       "      <td>1653742257</td>\n",
       "      <td>bananaphone77</td>\n",
       "      <td>Performance:ok\\nBest Feature(s):ok\\nValue For ...</td>\n",
       "      <td>5</td>\n",
       "      <td>['Performance', 'Best Feature(s)', 'Value For ...</td>\n",
       "    </tr>\n",
       "    <tr>\n",
       "      <th>2</th>\n",
       "      <td>223946658</td>\n",
       "      <td>11315955990</td>\n",
       "      <td>1659064971</td>\n",
       "      <td>jasperjane80</td>\n",
       "      <td>Performance:Excellent.\\nBest Feature(s):Back l...</td>\n",
       "      <td>5</td>\n",
       "      <td>['Performance', 'Best Feature(s)', 'Value For ...</td>\n",
       "    </tr>\n",
       "    <tr>\n",
       "      <th>3</th>\n",
       "      <td>223946658</td>\n",
       "      <td>11315955990</td>\n",
       "      <td>1637408323</td>\n",
       "      <td>s*****4</td>\n",
       "      <td>Came less than a week ! Consider fast! Keyboar...</td>\n",
       "      <td>5</td>\n",
       "      <td>[]</td>\n",
       "    </tr>\n",
       "    <tr>\n",
       "      <th>4</th>\n",
       "      <td>223946658</td>\n",
       "      <td>11315955990</td>\n",
       "      <td>1639452456</td>\n",
       "      <td>reeveschiu97</td>\n",
       "      <td>Packaging was a bust and the product was ok .....</td>\n",
       "      <td>2</td>\n",
       "      <td>[]</td>\n",
       "    </tr>\n",
       "  </tbody>\n",
       "</table>\n",
       "</div>"
      ],
      "text/plain": [
       "      shopid       itemid       ctime author_username  \\\n",
       "0  223946658  11315955990  1670429351         s*****h   \n",
       "1  223946658  11315955990  1653742257   bananaphone77   \n",
       "2  223946658  11315955990  1659064971    jasperjane80   \n",
       "3  223946658  11315955990  1637408323         s*****4   \n",
       "4  223946658  11315955990  1639452456    reeveschiu97   \n",
       "\n",
       "                                             comment  rating_star  \\\n",
       "0  Performance:good\\nBest Feature(s):yet to try\\n...            5   \n",
       "1  Performance:ok\\nBest Feature(s):ok\\nValue For ...            5   \n",
       "2  Performance:Excellent.\\nBest Feature(s):Back l...            5   \n",
       "3  Came less than a week ! Consider fast! Keyboar...            5   \n",
       "4  Packaging was a bust and the product was ok .....            2   \n",
       "\n",
       "                                       template_tags  \n",
       "0  ['Performance', 'Best Feature(s)', 'Value For ...  \n",
       "1  ['Performance', 'Best Feature(s)', 'Value For ...  \n",
       "2  ['Performance', 'Best Feature(s)', 'Value For ...  \n",
       "3                                                 []  \n",
       "4                                                 []  "
      ]
     },
     "execution_count": 2,
     "metadata": {},
     "output_type": "execute_result"
    }
   ],
   "source": [
    "# Read data from xlsx file\n",
    "df = pd.read_excel('shopee_reviews.xlsx', 'Sheet1')\n",
    "df.head()"
   ]
  },
  {
   "cell_type": "code",
   "execution_count": 3,
   "id": "3e6c26c5",
   "metadata": {},
   "outputs": [
    {
     "name": "stdout",
     "output_type": "stream",
     "text": [
      "<class 'pandas.core.frame.DataFrame'>\n",
      "RangeIndex: 49791 entries, 0 to 49790\n",
      "Data columns (total 7 columns):\n",
      " #   Column           Non-Null Count  Dtype \n",
      "---  ------           --------------  ----- \n",
      " 0   shopid           49791 non-null  int64 \n",
      " 1   itemid           49791 non-null  int64 \n",
      " 2   ctime            49791 non-null  int64 \n",
      " 3   author_username  49662 non-null  object\n",
      " 4   comment          49791 non-null  object\n",
      " 5   rating_star      49791 non-null  int64 \n",
      " 6   template_tags    49791 non-null  object\n",
      "dtypes: int64(4), object(3)\n",
      "memory usage: 2.7+ MB\n"
     ]
    }
   ],
   "source": [
    "# Print out stats of the data\n",
    "df.info()"
   ]
  },
  {
   "cell_type": "markdown",
   "id": "ae7eee6e",
   "metadata": {},
   "source": [
    "# Categorize data as \"neutral\" vs \"opinionated\"\n",
    "### Define star rating of 1 and 2 as bad reviews, 3 as neutral, 4 and 5 as good reviews"
   ]
  },
  {
   "cell_type": "code",
   "execution_count": 4,
   "id": "cf45b2ef",
   "metadata": {},
   "outputs": [],
   "source": [
    "# Polarity detection to differentiate the opinionated data as 'positive' vs 'negative'\n",
    "def polarity_detection(value):\n",
    "    if(value == 4):\n",
    "        return 1\n",
    "    elif(value == 5):\n",
    "        return 1\n",
    "    else:\n",
    "        return 0\n",
    "\n",
    "def organize_data(dataframe):\n",
    "    # Remove rating of '3'\n",
    "    dataframe = dataframe[dataframe['rating_star'] != 3]\n",
    "\n",
    "    # Display the polarity\n",
    "    dataframe['polarity'] = dataframe['rating_star'].apply(polarity_detection)\n",
    "    \n",
    "    dataframe = dataframe.loc[:,['itemid', 'comment', 'rating_star', 'polarity']]\n",
    "    \n",
    "    # Reset Index\n",
    "    dataframe.reset_index(drop=True, inplace=True)\n",
    "\n",
    "    return dataframe"
   ]
  },
  {
   "cell_type": "code",
   "execution_count": 5,
   "id": "ff5bc721",
   "metadata": {},
   "outputs": [
    {
     "name": "stderr",
     "output_type": "stream",
     "text": [
      "C:\\Users\\jezeb\\AppData\\Local\\Temp\\ipykernel_22508\\3788293695.py:15: SettingWithCopyWarning: \n",
      "A value is trying to be set on a copy of a slice from a DataFrame.\n",
      "Try using .loc[row_indexer,col_indexer] = value instead\n",
      "\n",
      "See the caveats in the documentation: https://pandas.pydata.org/pandas-docs/stable/user_guide/indexing.html#returning-a-view-versus-a-copy\n",
      "  dataframe['polarity'] = dataframe['rating_star'].apply(polarity_detection)\n"
     ]
    },
    {
     "data": {
      "text/html": [
       "<div>\n",
       "<style scoped>\n",
       "    .dataframe tbody tr th:only-of-type {\n",
       "        vertical-align: middle;\n",
       "    }\n",
       "\n",
       "    .dataframe tbody tr th {\n",
       "        vertical-align: top;\n",
       "    }\n",
       "\n",
       "    .dataframe thead th {\n",
       "        text-align: right;\n",
       "    }\n",
       "</style>\n",
       "<table border=\"1\" class=\"dataframe\">\n",
       "  <thead>\n",
       "    <tr style=\"text-align: right;\">\n",
       "      <th></th>\n",
       "      <th>itemid</th>\n",
       "      <th>comment</th>\n",
       "      <th>rating_star</th>\n",
       "      <th>polarity</th>\n",
       "    </tr>\n",
       "  </thead>\n",
       "  <tbody>\n",
       "    <tr>\n",
       "      <th>0</th>\n",
       "      <td>11315955990</td>\n",
       "      <td>Performance:good\\nBest Feature(s):yet to try\\n...</td>\n",
       "      <td>5</td>\n",
       "      <td>1</td>\n",
       "    </tr>\n",
       "    <tr>\n",
       "      <th>1</th>\n",
       "      <td>11315955990</td>\n",
       "      <td>Performance:ok\\nBest Feature(s):ok\\nValue For ...</td>\n",
       "      <td>5</td>\n",
       "      <td>1</td>\n",
       "    </tr>\n",
       "    <tr>\n",
       "      <th>2</th>\n",
       "      <td>11315955990</td>\n",
       "      <td>Performance:Excellent.\\nBest Feature(s):Back l...</td>\n",
       "      <td>5</td>\n",
       "      <td>1</td>\n",
       "    </tr>\n",
       "    <tr>\n",
       "      <th>3</th>\n",
       "      <td>11315955990</td>\n",
       "      <td>Came less than a week ! Consider fast! Keyboar...</td>\n",
       "      <td>5</td>\n",
       "      <td>1</td>\n",
       "    </tr>\n",
       "    <tr>\n",
       "      <th>4</th>\n",
       "      <td>11315955990</td>\n",
       "      <td>Packaging was a bust and the product was ok .....</td>\n",
       "      <td>2</td>\n",
       "      <td>0</td>\n",
       "    </tr>\n",
       "    <tr>\n",
       "      <th>5</th>\n",
       "      <td>11315955990</td>\n",
       "      <td>Performance:many colours\\nBest Feature(s):many...</td>\n",
       "      <td>5</td>\n",
       "      <td>1</td>\n",
       "    </tr>\n",
       "    <tr>\n",
       "      <th>6</th>\n",
       "      <td>11315955990</td>\n",
       "      <td>Fast delivery and is working fine. However my ...</td>\n",
       "      <td>5</td>\n",
       "      <td>1</td>\n",
       "    </tr>\n",
       "    <tr>\n",
       "      <th>7</th>\n",
       "      <td>11315955990</td>\n",
       "      <td>I purchased it during the flash sale! I'm not ...</td>\n",
       "      <td>5</td>\n",
       "      <td>1</td>\n",
       "    </tr>\n",
       "    <tr>\n",
       "      <th>8</th>\n",
       "      <td>11315955990</td>\n",
       "      <td>Performance:Very Good\\nBest Feature(s):Beautif...</td>\n",
       "      <td>5</td>\n",
       "      <td>1</td>\n",
       "    </tr>\n",
       "    <tr>\n",
       "      <th>9</th>\n",
       "      <td>11315955990</td>\n",
       "      <td>Performance:ok\\nBest Feature(s):light is quite...</td>\n",
       "      <td>5</td>\n",
       "      <td>1</td>\n",
       "    </tr>\n",
       "    <tr>\n",
       "      <th>10</th>\n",
       "      <td>11315955990</td>\n",
       "      <td>Works really well, disconnects from time to ti...</td>\n",
       "      <td>5</td>\n",
       "      <td>1</td>\n",
       "    </tr>\n",
       "    <tr>\n",
       "      <th>11</th>\n",
       "      <td>11315955990</td>\n",
       "      <td>Performance:Subpar\\nBest Feature(s):NIL\\nValue...</td>\n",
       "      <td>2</td>\n",
       "      <td>0</td>\n",
       "    </tr>\n",
       "    <tr>\n",
       "      <th>12</th>\n",
       "      <td>11315955990</td>\n",
       "      <td>Excellent. Keyboard and mouse working perfectl...</td>\n",
       "      <td>5</td>\n",
       "      <td>1</td>\n",
       "    </tr>\n",
       "    <tr>\n",
       "      <th>13</th>\n",
       "      <td>11315955990</td>\n",
       "      <td>Item came packed with a polymailer, delivery w...</td>\n",
       "      <td>4</td>\n",
       "      <td>1</td>\n",
       "    </tr>\n",
       "    <tr>\n",
       "      <th>14</th>\n",
       "      <td>11315955990</td>\n",
       "      <td>Performance:okay\\nBest Feature(s):light effect...</td>\n",
       "      <td>5</td>\n",
       "      <td>1</td>\n",
       "    </tr>\n",
       "    <tr>\n",
       "      <th>15</th>\n",
       "      <td>11315955990</td>\n",
       "      <td>Fast delivery. Had a little trouble with the l...</td>\n",
       "      <td>5</td>\n",
       "      <td>1</td>\n",
       "    </tr>\n",
       "    <tr>\n",
       "      <th>16</th>\n",
       "      <td>11315955990</td>\n",
       "      <td>Performance:Good product\\nBest Feature(s):good...</td>\n",
       "      <td>5</td>\n",
       "      <td>1</td>\n",
       "    </tr>\n",
       "    <tr>\n",
       "      <th>17</th>\n",
       "      <td>11315955990</td>\n",
       "      <td>Performance:good\\nBest Feature(s):yes\\nValue F...</td>\n",
       "      <td>5</td>\n",
       "      <td>1</td>\n",
       "    </tr>\n",
       "    <tr>\n",
       "      <th>18</th>\n",
       "      <td>11315955990</td>\n",
       "      <td>Value For Money:yes\\nPerformance:well\\nBest Fe...</td>\n",
       "      <td>5</td>\n",
       "      <td>1</td>\n",
       "    </tr>\n",
       "    <tr>\n",
       "      <th>19</th>\n",
       "      <td>11315955990</td>\n",
       "      <td>Performance:good\\nBest Feature(s):toggle the l...</td>\n",
       "      <td>4</td>\n",
       "      <td>1</td>\n",
       "    </tr>\n",
       "  </tbody>\n",
       "</table>\n",
       "</div>"
      ],
      "text/plain": [
       "         itemid                                            comment  \\\n",
       "0   11315955990  Performance:good\\nBest Feature(s):yet to try\\n...   \n",
       "1   11315955990  Performance:ok\\nBest Feature(s):ok\\nValue For ...   \n",
       "2   11315955990  Performance:Excellent.\\nBest Feature(s):Back l...   \n",
       "3   11315955990  Came less than a week ! Consider fast! Keyboar...   \n",
       "4   11315955990  Packaging was a bust and the product was ok .....   \n",
       "5   11315955990  Performance:many colours\\nBest Feature(s):many...   \n",
       "6   11315955990  Fast delivery and is working fine. However my ...   \n",
       "7   11315955990  I purchased it during the flash sale! I'm not ...   \n",
       "8   11315955990  Performance:Very Good\\nBest Feature(s):Beautif...   \n",
       "9   11315955990  Performance:ok\\nBest Feature(s):light is quite...   \n",
       "10  11315955990  Works really well, disconnects from time to ti...   \n",
       "11  11315955990  Performance:Subpar\\nBest Feature(s):NIL\\nValue...   \n",
       "12  11315955990  Excellent. Keyboard and mouse working perfectl...   \n",
       "13  11315955990  Item came packed with a polymailer, delivery w...   \n",
       "14  11315955990  Performance:okay\\nBest Feature(s):light effect...   \n",
       "15  11315955990  Fast delivery. Had a little trouble with the l...   \n",
       "16  11315955990  Performance:Good product\\nBest Feature(s):good...   \n",
       "17  11315955990  Performance:good\\nBest Feature(s):yes\\nValue F...   \n",
       "18  11315955990  Value For Money:yes\\nPerformance:well\\nBest Fe...   \n",
       "19  11315955990  Performance:good\\nBest Feature(s):toggle the l...   \n",
       "\n",
       "    rating_star  polarity  \n",
       "0             5         1  \n",
       "1             5         1  \n",
       "2             5         1  \n",
       "3             5         1  \n",
       "4             2         0  \n",
       "5             5         1  \n",
       "6             5         1  \n",
       "7             5         1  \n",
       "8             5         1  \n",
       "9             5         1  \n",
       "10            5         1  \n",
       "11            2         0  \n",
       "12            5         1  \n",
       "13            4         1  \n",
       "14            5         1  \n",
       "15            5         1  \n",
       "16            5         1  \n",
       "17            5         1  \n",
       "18            5         1  \n",
       "19            4         1  "
      ]
     },
     "execution_count": 5,
     "metadata": {},
     "output_type": "execute_result"
    }
   ],
   "source": [
    "clean_df = organize_data(df)\n",
    "clean_df.head(20)"
   ]
  },
  {
   "cell_type": "code",
   "execution_count": 6,
   "id": "db68a996",
   "metadata": {},
   "outputs": [
    {
     "data": {
      "text/plain": [
       "1    46848\n",
       "0     1648\n",
       "Name: polarity, dtype: int64"
      ]
     },
     "execution_count": 6,
     "metadata": {},
     "output_type": "execute_result"
    }
   ],
   "source": [
    "# Count number of positive and negative reviews\n",
    "tb_counts = clean_df.polarity.value_counts()\n",
    "tb_counts"
   ]
  },
  {
   "cell_type": "markdown",
   "id": "b0c085e2",
   "metadata": {},
   "source": [
    "# Manual Labelling Data (1000 records)"
   ]
  },
  {
   "cell_type": "code",
   "execution_count": 7,
   "id": "3a4b076c",
   "metadata": {},
   "outputs": [],
   "source": [
    "from nltk import agreement"
   ]
  },
  {
   "cell_type": "code",
   "execution_count": 8,
   "id": "ae2c8cc0",
   "metadata": {},
   "outputs": [],
   "source": [
    "# Read data from xlsx file\n",
    "manually_labelled_df = pd.read_excel('manually_labelled_data.xlsx', 'Sheet1')"
   ]
  },
  {
   "cell_type": "markdown",
   "id": "b3db3b33",
   "metadata": {},
   "source": [
    "## Fleiss Kappa"
   ]
  },
  {
   "cell_type": "code",
   "execution_count": 9,
   "id": "b2974f14",
   "metadata": {},
   "outputs": [
    {
     "name": "stdout",
     "output_type": "stream",
     "text": [
      "The Fleiss' Kappa score between 3 raters is  0.8111594175222843\n"
     ]
    }
   ],
   "source": [
    "# Measure the inter-annotator agreement between 3 raters\n",
    "\n",
    "# Convert raters to numpy array\n",
    "Rater_1 = manually_labelled_df['Rater_1'].to_numpy()\n",
    "Rater_2 = manually_labelled_df['Rater_2'].to_numpy()\n",
    "Rater_3 = manually_labelled_df['Rater_3'].to_numpy()\n",
    "\n",
    "task_data = [[0,str(i),str(Rater_1[i])] for i in range(0,len(Rater_1))]+[[1,str(i),str(Rater_2[i])] \n",
    "    for i in range(0,len(Rater_2))]+[[2,str(i),str(Rater_3[i])] for i in range(0,len(Rater_3))]\n",
    "rating_task = agreement.AnnotationTask(data=task_data)\n",
    "\n",
    "# Print Fleiss' Kappa result\n",
    "print(\"The Fleiss' Kappa score between 3 raters is \", str(rating_task.multi_kappa()))"
   ]
  },
  {
   "cell_type": "markdown",
   "id": "b26ebf6a",
   "metadata": {},
   "source": [
    "# Preprocessing Data"
   ]
  },
  {
   "cell_type": "code",
   "execution_count": 10,
   "id": "2fa5a5d7",
   "metadata": {},
   "outputs": [
    {
     "name": "stderr",
     "output_type": "stream",
     "text": [
      "[nltk_data] Downloading package punkt to\n",
      "[nltk_data]     C:\\Users\\jezeb\\AppData\\Roaming\\nltk_data...\n",
      "[nltk_data]   Package punkt is already up-to-date!\n",
      "[nltk_data] Downloading package stopwords to\n",
      "[nltk_data]     C:\\Users\\jezeb\\AppData\\Roaming\\nltk_data...\n",
      "[nltk_data]   Package stopwords is already up-to-date!\n",
      "[nltk_data] Downloading package wordnet to\n",
      "[nltk_data]     C:\\Users\\jezeb\\AppData\\Roaming\\nltk_data...\n",
      "[nltk_data]   Package wordnet is already up-to-date!\n"
     ]
    },
    {
     "data": {
      "text/plain": [
       "True"
      ]
     },
     "execution_count": 10,
     "metadata": {},
     "output_type": "execute_result"
    }
   ],
   "source": [
    "import numpy as np\n",
    "import re\n",
    "import nltk\n",
    "from nltk.corpus import stopwords\n",
    "from nltk.stem import PorterStemmer\n",
    "from nltk.tokenize import word_tokenize\n",
    "from nltk.stem import WordNetLemmatizer\n",
    "\n",
    "nltk.download('punkt')\n",
    "nltk.download('stopwords')\n",
    "nltk.download('wordnet')"
   ]
  },
  {
   "cell_type": "code",
   "execution_count": 11,
   "id": "54a01181",
   "metadata": {},
   "outputs": [],
   "source": [
    "# Remove stopwords\n",
    "stopwords = stopwords.words('english')\n",
    "lemmatizer = WordNetLemmatizer()\n",
    "\n",
    "def preprocess_data(comment):\n",
    "    \n",
    "    # Remove unwanted characters and numbers\n",
    "    comment = re.sub('[^A-Za-z0-9]+', ' ', comment)\n",
    "    \n",
    "    # Tokenization\n",
    "    tokens = nltk.word_tokenize(comment)\n",
    "    \n",
    "    # Remove stopwords from the comment\n",
    "    comment = [word for word in tokens if word not in stopwords]\n",
    "    \n",
    "    # Lemmatization\n",
    "    comment = [lemmatizer.lemmatize(word) for word in comment]\n",
    "    \n",
    "    # Make entire comment to be lowercase\n",
    "    comment = [c.lower() for c in comment]\n",
    "\n",
    "    # Join words for preprocessed comment\n",
    "    comment = ' '.join(str(comment))\n",
    "    return comment"
   ]
  },
  {
   "cell_type": "code",
   "execution_count": 12,
   "id": "2a46eb25",
   "metadata": {},
   "outputs": [
    {
     "data": {
      "text/html": [
       "<div>\n",
       "<style scoped>\n",
       "    .dataframe tbody tr th:only-of-type {\n",
       "        vertical-align: middle;\n",
       "    }\n",
       "\n",
       "    .dataframe tbody tr th {\n",
       "        vertical-align: top;\n",
       "    }\n",
       "\n",
       "    .dataframe thead th {\n",
       "        text-align: right;\n",
       "    }\n",
       "</style>\n",
       "<table border=\"1\" class=\"dataframe\">\n",
       "  <thead>\n",
       "    <tr style=\"text-align: right;\">\n",
       "      <th></th>\n",
       "      <th>Column</th>\n",
       "      <th>Comment</th>\n",
       "      <th>Rater_1</th>\n",
       "      <th>Rater_2</th>\n",
       "      <th>Rater_3</th>\n",
       "      <th>preprocessed_comment</th>\n",
       "    </tr>\n",
       "  </thead>\n",
       "  <tbody>\n",
       "    <tr>\n",
       "      <th>0</th>\n",
       "      <td>11322</td>\n",
       "      <td>Quality is good but already indicated the font...</td>\n",
       "      <td>0</td>\n",
       "      <td>0</td>\n",
       "      <td>0</td>\n",
       "      <td>[ ' q u a l i t y ' ,   ' g o o d ' ,   ' a l ...</td>\n",
       "    </tr>\n",
       "    <tr>\n",
       "      <th>1</th>\n",
       "      <td>10707</td>\n",
       "      <td>Very nice quality stickers.  Perfect for namin...</td>\n",
       "      <td>1</td>\n",
       "      <td>1</td>\n",
       "      <td>1</td>\n",
       "      <td>[ ' v e r y ' ,   ' n i c e ' ,   ' q u a l i ...</td>\n",
       "    </tr>\n",
       "    <tr>\n",
       "      <th>2</th>\n",
       "      <td>20077</td>\n",
       "      <td>Beautiful fairy lights for artwork, gifts and ...</td>\n",
       "      <td>1</td>\n",
       "      <td>1</td>\n",
       "      <td>1</td>\n",
       "      <td>[ ' b e a u t i f u l ' ,   ' f a i r y ' ,   ...</td>\n",
       "    </tr>\n",
       "    <tr>\n",
       "      <th>3</th>\n",
       "      <td>5222</td>\n",
       "      <td>Very nice and fixes my computer perfectly, wil...</td>\n",
       "      <td>1</td>\n",
       "      <td>1</td>\n",
       "      <td>1</td>\n",
       "      <td>[ ' v e r y ' ,   ' n i c e ' ,   ' f i x ' , ...</td>\n",
       "    </tr>\n",
       "    <tr>\n",
       "      <th>4</th>\n",
       "      <td>4952</td>\n",
       "      <td>Awesome product for the price. Good for printi...</td>\n",
       "      <td>1</td>\n",
       "      <td>1</td>\n",
       "      <td>1</td>\n",
       "      <td>[ ' a w e s o m e ' ,   ' p r o d u c t ' ,   ...</td>\n",
       "    </tr>\n",
       "  </tbody>\n",
       "</table>\n",
       "</div>"
      ],
      "text/plain": [
       "   Column                                            Comment  Rater_1  \\\n",
       "0   11322  Quality is good but already indicated the font...        0   \n",
       "1   10707  Very nice quality stickers.  Perfect for namin...        1   \n",
       "2   20077  Beautiful fairy lights for artwork, gifts and ...        1   \n",
       "3    5222  Very nice and fixes my computer perfectly, wil...        1   \n",
       "4    4952  Awesome product for the price. Good for printi...        1   \n",
       "\n",
       "   Rater_2  Rater_3                               preprocessed_comment  \n",
       "0        0        0  [ ' q u a l i t y ' ,   ' g o o d ' ,   ' a l ...  \n",
       "1        1        1  [ ' v e r y ' ,   ' n i c e ' ,   ' q u a l i ...  \n",
       "2        1        1  [ ' b e a u t i f u l ' ,   ' f a i r y ' ,   ...  \n",
       "3        1        1  [ ' v e r y ' ,   ' n i c e ' ,   ' f i x ' , ...  \n",
       "4        1        1  [ ' a w e s o m e ' ,   ' p r o d u c t ' ,   ...  "
      ]
     },
     "execution_count": 12,
     "metadata": {},
     "output_type": "execute_result"
    }
   ],
   "source": [
    "manually_labelled_df['preprocessed_comment'] = manually_labelled_df['Comment'].apply(lambda comment: preprocess_data(comment))\n",
    "manually_labelled_df.head()"
   ]
  },
  {
   "cell_type": "markdown",
   "id": "addf717e",
   "metadata": {},
   "source": [
    "# Classification approach"
   ]
  },
  {
   "cell_type": "markdown",
   "id": "b336c870",
   "metadata": {},
   "source": [
    "## Naive Bayes Classification"
   ]
  },
  {
   "cell_type": "code",
   "execution_count": 13,
   "id": "6d1a0e9b",
   "metadata": {},
   "outputs": [],
   "source": [
    "import seaborn as sns\n",
    "\n",
    "from sklearn.model_selection import train_test_split\n",
    "from sklearn.feature_extraction.text import CountVectorizer\n",
    "from sklearn.naive_bayes import MultinomialNB\n",
    "from sklearn.metrics import accuracy_score"
   ]
  },
  {
   "cell_type": "code",
   "execution_count": 14,
   "id": "4358b691",
   "metadata": {},
   "outputs": [
    {
     "name": "stdout",
     "output_type": "stream",
     "text": [
      "Accuracy: 0.9669393085435425\n"
     ]
    }
   ],
   "source": [
    "# Create training & test split where 30% of the dataset is set aside for test\n",
    "x_train, x_test, y_train, y_test = train_test_split(clean_df['comment'], clean_df['polarity'], test_size=0.3, random_state=0)\n",
    "\n",
    "# Convert text data into bag of words\n",
    "vectorizer = CountVectorizer()\n",
    "x_train = vectorizer.fit_transform(x_train)\n",
    "x_test = vectorizer.transform(x_test)\n",
    "\n",
    "# Initialize NB\n",
    "nb_classifier = MultinomialNB()\n",
    "\n",
    "# Train model\n",
    "nb_classifier.fit(x_train, y_train)\n",
    "\n",
    "# Test model\n",
    "y_pred = nb_classifier.predict(x_test)\n",
    "\n",
    "# Evaluate accuracy of the model\n",
    "accuracy = accuracy_score(y_test, y_pred)\n",
    "print(\"Accuracy:\", accuracy)"
   ]
  },
  {
   "cell_type": "markdown",
   "id": "a921078a",
   "metadata": {},
   "source": [
    "### Evaluation metrics"
   ]
  },
  {
   "cell_type": "code",
   "execution_count": 15,
   "id": "dfd96532",
   "metadata": {},
   "outputs": [],
   "source": [
    "import seaborn as sns\n",
    "import matplotlib.pyplot as plt\n",
    "\n",
    "from sklearn.metrics import confusion_matrix\n",
    "from sklearn.metrics import classification_report"
   ]
  },
  {
   "cell_type": "code",
   "execution_count": 16,
   "id": "8f9fc393",
   "metadata": {},
   "outputs": [
    {
     "data": {
      "image/png": "[encoded data removed]",
      "text/plain": [
       "<Figure size 640x480 with 2 Axes>"
      ]
     },
     "metadata": {},
     "output_type": "display_data"
    }
   ],
   "source": [
    "# Passing actual and predicted values\n",
    "cm = confusion_matrix(y_test, y_pred)\n",
    "\n",
    "# True write data values in each cell of the matrix\n",
    "sns.heatmap(cm, annot=True, fmt='d')\n",
    "\n",
    "plt.title(\"Confusion Matrix of Naive Bayes Classification\")\n",
    "plt.xlabel('Prediction')\n",
    "plt.ylabel('Actual')\n",
    "plt.show()"
   ]
  },
  {
   "cell_type": "code",
   "execution_count": 17,
   "id": "8365dd36",
   "metadata": {},
   "outputs": [
    {
     "name": "stdout",
     "output_type": "stream",
     "text": [
      "              precision    recall  f1-score   support\n",
      "\n",
      "           0       0.52      0.48      0.50       498\n",
      "           1       0.98      0.98      0.98     14051\n",
      "\n",
      "    accuracy                           0.97     14549\n",
      "   macro avg       0.75      0.73      0.74     14549\n",
      "weighted avg       0.97      0.97      0.97     14549\n",
      "\n"
     ]
    }
   ],
   "source": [
    "# Print precision, recall, and F-measure\n",
    "print(classification_report(y_test, y_pred))"
   ]
  },
  {
   "cell_type": "markdown",
   "id": "01e3481e",
   "metadata": {},
   "source": [
    "### Performance Metrics"
   ]
  },
  {
   "cell_type": "markdown",
   "id": "8556d1d5",
   "metadata": {},
   "source": [
    "### Records Classified Per Second"
   ]
  },
  {
   "cell_type": "code",
   "execution_count": 18,
   "id": "a78a3cc2",
   "metadata": {},
   "outputs": [],
   "source": [
    "import time"
   ]
  },
  {
   "cell_type": "code",
   "execution_count": 19,
   "id": "0c2219df",
   "metadata": {},
   "outputs": [
    {
     "name": "stdout",
     "output_type": "stream",
     "text": [
      "Classification rate: 6925435.52 records per second\n"
     ]
    }
   ],
   "source": [
    "# Create training & test split where 30% of the dataset is set aside for test\n",
    "x_train, x_test, y_train, y_test = train_test_split(clean_df['comment'], clean_df['polarity'], test_size=0.3, random_state=0)\n",
    "\n",
    "# Convert text data into bag of words\n",
    "vectorizer = CountVectorizer()\n",
    "x_train = vectorizer.fit_transform(x_train)\n",
    "x_test = vectorizer.transform(x_test)\n",
    "\n",
    "# Initialize NB\n",
    "nb_classifier = MultinomialNB()\n",
    "\n",
    "# Measure time taken to classify records\n",
    "start_time = time.time()\n",
    "\n",
    "# Train model\n",
    "nb_classifier.fit(x_train, y_train)\n",
    "\n",
    "# Test model\n",
    "y_pred = nb_classifier.predict(x_test)\n",
    "\n",
    "# Calculate classification rate\n",
    "end_time = time.time()\n",
    "classification_rate = len(clean_df) / (end_time - start_time)\n",
    "\n",
    "print(f\"Classification rate: {classification_rate:.2f} records per second\")"
   ]
  }
 ],
 "metadata": {
  "kernelspec": {
   "display_name": "Python 3 (ipykernel)",
   "language": "python",
   "name": "python3"
  },
  "language_info": {
   "codemirror_mode": {
    "name": "ipython",
    "version": 3
   },
   "file_extension": ".py",
   "mimetype": "text/x-python",
   "name": "python",
   "nbconvert_exporter": "python",
   "pygments_lexer": "ipython3",
   "version": "3.8.10"
  }
 },
 "nbformat": 4,
 "nbformat_minor": 5
}
